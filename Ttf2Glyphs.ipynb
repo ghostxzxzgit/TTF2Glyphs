{
 "cells": [
  {
   "cell_type": "markdown",
   "metadata": {
    "colab_type": "text",
    "id": "onDMu6aYi5cd"
   },
   "source": [
    "This notebook takes in a .ttf fontpackage and outputs the individual glyphs in a zip download.\n",
    "Run it in googlecolab."
   ]
  },
  {
   "cell_type": "code",
   "execution_count": 0,
   "metadata": {
    "colab": {},
    "colab_type": "code",
    "id": "5irXnfXKkQpj"
   },
   "outputs": [],
   "source": [
    "!sudo apt-get update -y\n",
    "!sudo apt-get install -y mingw-w64"
   ]
  },
  {
   "cell_type": "code",
   "execution_count": 0,
   "metadata": {
    "colab": {},
    "colab_type": "code",
    "id": "9qSRIlsvlOHE"
   },
   "outputs": [],
   "source": [
    "!sudo apt install imagemagick"
   ]
  },
  {
   "cell_type": "code",
   "execution_count": 0,
   "metadata": {
    "colab": {},
    "colab_type": "code",
    "id": "bfYqMW9Lg0I3"
   },
   "outputs": [],
   "source": [
    "!convert -version"
   ]
  },
  {
   "cell_type": "markdown",
   "metadata": {
    "colab_type": "text",
    "id": "1caQ8mCpamRt"
   },
   "source": [
    "This cell should output something like this : \n",
    "\n",
    "```\n",
    "Version: ImageMagick 6.9.7-4 Q16 x86_64 20170114 http://www.imagemagick.org\n",
    "Copyright: © 1999-2017 ImageMagick Studio LLC\n",
    "License: http://www.imagemagick.org/script/license.php\n",
    "Features: Cipher DPC Modules OpenMP\n",
    "```\n",
    "\n",
    "If it doesn't then run this code block : \n",
    "\n",
    "```\n",
    "!wget https://imagemagick.org/download/binaries/ImageMagick-i686-pc-mingw32.tar.gz\n",
    "!tar xvzf ImageMagick-i686-pc-mingw32.tar.gz\n",
    "\n",
    "!export MAGICK_HOME='content/ImageMagick-6.8.5'\n",
    "!export PATH='/content/ImageMagick-6.8.5'\n",
    "!export LD_LIBRARY_PATH='/content/ImageMagick-6.8.5/lib'\n",
    "```"
   ]
  },
  {
   "cell_type": "code",
   "execution_count": 0,
   "metadata": {
    "colab": {},
    "colab_type": "code",
    "id": "PzIiqcJl3jJe"
   },
   "outputs": [],
   "source": [
    "%mkdir FontDirectory\n",
    "%cd FontDirectory"
   ]
  },
  {
   "cell_type": "markdown",
   "metadata": {
    "colab_type": "text",
    "id": "MTvibHeFbORd"
   },
   "source": [
    "Now upload your font file (.ttf) into this directory.\n",
    "You can simply drag and drop.\n",
    "\n",
    "\n",
    "##RENAME THE FONT FILE TO : \"FontPackage.ttf\""
   ]
  },
  {
   "cell_type": "markdown",
   "metadata": {
    "colab_type": "text",
    "id": "Ko34h3FVenUI"
   },
   "source": [
    "Your individual glyphs will be named :\n",
    "\n",
    "*   a - a.png\n",
    "*   A - A.png\n",
    "*   1 - 1.png\n",
    "\n",
    "If you wanna change the naming : You can change the script below."
   ]
  },
  {
   "cell_type": "code",
   "execution_count": 0,
   "metadata": {
    "colab": {},
    "colab_type": "code",
    "id": "yPRBLbT7r6vI"
   },
   "outputs": [],
   "source": [
    "def GenerateBatchFile(FontPackageName):\n",
    "    common = \"convert -background none -fill black -font \" + FontPackageName + \".ttf -pointsize 300 label:\"\n",
    "\n",
    "    file = \"seperate.sh\"\n",
    "    fhand = open(file, \"w\")\n",
    "    \n",
    "    for i in range(ord('a'),ord('z')+1):\n",
    "        #fhand.write(\"!\")\n",
    "        fhand.write(common)\n",
    "        fhand.write(chr(i))\n",
    "        fhand.write(\" \")\n",
    "        fhand.write(chr(i))\n",
    "        fhand.write(\".png\")\n",
    "        fhand.write(\"\\n\")\n",
    "\n",
    "    for i in range(ord('A'),ord('Z')+1):\n",
    "        #fhand.write(\"!\")\n",
    "        fhand.write(common)\n",
    "        fhand.write(chr(i))\n",
    "        fhand.write(\" \")\n",
    "        fhand.write(chr(i))\n",
    "        fhand.write(\".png\")\n",
    "        fhand.write(\"\\n\")\n",
    "    \n",
    "    for i in range(ord('0'),ord('9')+1):\n",
    "        #fhand.write(\"!\")\n",
    "        fhand.write(common)\n",
    "        fhand.write(chr(i))\n",
    "        fhand.write(\" \")\n",
    "        fhand.write(chr(i))\n",
    "        fhand.write(\".png\")\n",
    "        fhand.write(\"\\n\")\n",
    "\n",
    "    fhand.close()\n",
    "    return file"
   ]
  },
  {
   "cell_type": "code",
   "execution_count": 0,
   "metadata": {
    "colab": {},
    "colab_type": "code",
    "id": "7kH7N9jRvBB4"
   },
   "outputs": [],
   "source": [
    "Outfile = GenerateBatchFile(\"FontPackage\")"
   ]
  },
  {
   "cell_type": "code",
   "execution_count": 0,
   "metadata": {
    "colab": {},
    "colab_type": "code",
    "id": "gPTlDMJMvNE3"
   },
   "outputs": [],
   "source": [
    "!chmod +rx seperate.sh"
   ]
  },
  {
   "cell_type": "code",
   "execution_count": 0,
   "metadata": {
    "colab": {},
    "colab_type": "code",
    "id": "G3WOzmfm1F19"
   },
   "outputs": [],
   "source": [
    "!./seperate.sh"
   ]
  },
  {
   "cell_type": "code",
   "execution_count": 0,
   "metadata": {
    "colab": {},
    "colab_type": "code",
    "id": "iiuS6_1kod-7"
   },
   "outputs": [],
   "source": [
    "%pylab inline\n",
    "import matplotlib.pyplot as plt\n",
    "import matplotlib.image as mpimg\n",
    "\n",
    "img=mpimg.imread('R.png')\n",
    "imgplot = plt.imshow(img)\n",
    "plt.show()\n",
    "\n",
    "img=mpimg.imread('G.png')\n",
    "imgplot = plt.imshow(img)\n",
    "plt.show()"
   ]
  },
  {
   "cell_type": "code",
   "execution_count": 0,
   "metadata": {
    "colab": {},
    "colab_type": "code",
    "id": "B4hZgkwl5dWJ"
   },
   "outputs": [],
   "source": [
    "!rm '/content/FontDirectory/FontPackage.ttf'\n",
    "!rm '/content/FontDirectory/seperate.sh'"
   ]
  },
  {
   "cell_type": "code",
   "execution_count": 0,
   "metadata": {
    "colab": {},
    "colab_type": "code",
    "id": "E9DJeoAp6DF9"
   },
   "outputs": [],
   "source": [
    "!zip -r '/content/Font.zip' '/content/FontDirectory'"
   ]
  },
  {
   "cell_type": "code",
   "execution_count": 0,
   "metadata": {
    "colab": {},
    "colab_type": "code",
    "id": "fL53c_tN6xff"
   },
   "outputs": [],
   "source": [
    "%cd .."
   ]
  },
  {
   "cell_type": "code",
   "execution_count": 0,
   "metadata": {
    "colab": {},
    "colab_type": "code",
    "id": "ncVJU7DH6WWg"
   },
   "outputs": [],
   "source": [
    "from google.colab import files\n",
    "files.download('/content/Font.zip')"
   ]
  }
 ],
 "metadata": {
  "colab": {
   "collapsed_sections": [],
   "name": "Ttf2Glyphs.ipynb",
   "provenance": []
  },
  "kernelspec": {
   "display_name": "Python 3",
   "language": "python",
   "name": "python3"
  },
  "language_info": {
   "codemirror_mode": {
    "name": "ipython",
    "version": 3
   },
   "file_extension": ".py",
   "mimetype": "text/x-python",
   "name": "python",
   "nbconvert_exporter": "python",
   "pygments_lexer": "ipython3",
   "version": "3.6.5"
  }
 },
 "nbformat": 4,
 "nbformat_minor": 1
}
